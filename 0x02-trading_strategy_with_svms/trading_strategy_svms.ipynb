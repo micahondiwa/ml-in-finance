{
 "cells": [
  {
   "cell_type": "markdown",
   "metadata": {},
   "source": [
    "# Long/short Trading Strategy with Support Vector Machines (SVMs)"
   ]
  },
  {
   "cell_type": "markdown",
   "metadata": {},
   "source": [
    "**1. Introduction**"
   ]
  },
  {
   "cell_type": "markdown",
   "metadata": {},
   "source": [
    "- The aim is to implement SVM on a trading strategy for the Luxembourg index (LUXXX) based on other indices as well as technical indicators. \n",
    "- The strategy is to take a long/short position when 0.25% change in LUXXX return is predicted. \n",
    "- The long/short position will be based on an upward or downward trending market.\n",
    "- This strategy does not take into account  trading costs."
   ]
  },
  {
   "cell_type": "code",
   "execution_count": 99,
   "metadata": {},
   "outputs": [],
   "source": [
    "import matplotlib.pyplot as plt\n",
    "import numpy as np\n",
    "import pandas as pd\n",
    "import seaborn as sns\n",
    "\n",
    "from sklearn import svm\n",
    "from sklearn.metrics import roc_auc_score, roc_curve\n",
    "from sklearn.model_selection import GridSearchCV, train_test_split\n",
    "from sklearn.tree import DecisionTreeClassifier"
   ]
  },
  {
   "cell_type": "markdown",
   "metadata": {},
   "source": [
    "- Loading the data: The data contains weekly closing prices. "
   ]
  },
  {
   "cell_type": "code",
   "execution_count": 100,
   "metadata": {},
   "outputs": [
    {
     "data": {
      "text/html": [
       "<div>\n",
       "<style scoped>\n",
       "    .dataframe tbody tr th:only-of-type {\n",
       "        vertical-align: middle;\n",
       "    }\n",
       "\n",
       "    .dataframe tbody tr th {\n",
       "        vertical-align: top;\n",
       "    }\n",
       "\n",
       "    .dataframe thead th {\n",
       "        text-align: right;\n",
       "    }\n",
       "</style>\n",
       "<table border=\"1\" class=\"dataframe\">\n",
       "  <thead>\n",
       "    <tr style=\"text-align: right;\">\n",
       "      <th></th>\n",
       "      <th>Date</th>\n",
       "      <th>LUXXX</th>\n",
       "      <th>MSCI ARGENTINA</th>\n",
       "      <th>BLP ORIENTE MEDIO</th>\n",
       "      <th>MSCI AUSTRALIA</th>\n",
       "      <th>MSCI AUSTRIA</th>\n",
       "      <th>MSCI BELGIUM</th>\n",
       "      <th>MSCI BRAZIL</th>\n",
       "      <th>MSCI CANADA</th>\n",
       "      <th>MSCI CHINA</th>\n",
       "      <th>...</th>\n",
       "      <th>MSCI NORWAY</th>\n",
       "      <th>MSCI PERU</th>\n",
       "      <th>MSCI RUSSIA</th>\n",
       "      <th>MSCI SINGAPORE</th>\n",
       "      <th>MSCI SOUTH AFRICA</th>\n",
       "      <th>MSCI SPAIN</th>\n",
       "      <th>MSCI SWEDEN</th>\n",
       "      <th>MSCI SWITZERLAND</th>\n",
       "      <th>MSCI UK</th>\n",
       "      <th>MSCI USA</th>\n",
       "    </tr>\n",
       "  </thead>\n",
       "  <tbody>\n",
       "    <tr>\n",
       "      <th>0</th>\n",
       "      <td>01-Jan-16</td>\n",
       "      <td>1390.716</td>\n",
       "      <td>2376.29</td>\n",
       "      <td>3525.9150</td>\n",
       "      <td>1068.79</td>\n",
       "      <td>106.70</td>\n",
       "      <td>105.38</td>\n",
       "      <td>1036.23</td>\n",
       "      <td>1663.27</td>\n",
       "      <td>59.47</td>\n",
       "      <td>...</td>\n",
       "      <td>2373.17</td>\n",
       "      <td>811.96</td>\n",
       "      <td>404.73</td>\n",
       "      <td>1507.8101</td>\n",
       "      <td>1255.75</td>\n",
       "      <td>108.40</td>\n",
       "      <td>11136.65</td>\n",
       "      <td>1148.37</td>\n",
       "      <td>1818.40</td>\n",
       "      <td>1949.70</td>\n",
       "    </tr>\n",
       "    <tr>\n",
       "      <th>1</th>\n",
       "      <td>08-Jan-16</td>\n",
       "      <td>1291.267</td>\n",
       "      <td>2260.85</td>\n",
       "      <td>3280.6683</td>\n",
       "      <td>1005.56</td>\n",
       "      <td>97.66</td>\n",
       "      <td>99.35</td>\n",
       "      <td>952.01</td>\n",
       "      <td>1586.18</td>\n",
       "      <td>54.63</td>\n",
       "      <td>...</td>\n",
       "      <td>2209.38</td>\n",
       "      <td>751.09</td>\n",
       "      <td>388.05</td>\n",
       "      <td>1437.6600</td>\n",
       "      <td>1177.76</td>\n",
       "      <td>101.00</td>\n",
       "      <td>10389.93</td>\n",
       "      <td>1075.30</td>\n",
       "      <td>1722.00</td>\n",
       "      <td>1831.88</td>\n",
       "    </tr>\n",
       "    <tr>\n",
       "      <th>2</th>\n",
       "      <td>15-Jan-16</td>\n",
       "      <td>1257.086</td>\n",
       "      <td>2217.50</td>\n",
       "      <td>3118.2981</td>\n",
       "      <td>985.38</td>\n",
       "      <td>93.54</td>\n",
       "      <td>97.32</td>\n",
       "      <td>904.64</td>\n",
       "      <td>1541.08</td>\n",
       "      <td>51.54</td>\n",
       "      <td>...</td>\n",
       "      <td>2095.60</td>\n",
       "      <td>720.23</td>\n",
       "      <td>344.45</td>\n",
       "      <td>1372.9800</td>\n",
       "      <td>1133.72</td>\n",
       "      <td>97.34</td>\n",
       "      <td>10042.32</td>\n",
       "      <td>1056.01</td>\n",
       "      <td>1692.43</td>\n",
       "      <td>1789.56</td>\n",
       "    </tr>\n",
       "  </tbody>\n",
       "</table>\n",
       "<p>3 rows × 36 columns</p>\n",
       "</div>"
      ],
      "text/plain": [
       "        Date     LUXXX  MSCI ARGENTINA  BLP ORIENTE MEDIO  MSCI AUSTRALIA  \\\n",
       "0  01-Jan-16  1390.716         2376.29          3525.9150         1068.79   \n",
       "1  08-Jan-16  1291.267         2260.85          3280.6683         1005.56   \n",
       "2  15-Jan-16  1257.086         2217.50          3118.2981          985.38   \n",
       "\n",
       "   MSCI AUSTRIA  MSCI BELGIUM  MSCI BRAZIL  MSCI CANADA  MSCI CHINA  ...  \\\n",
       "0        106.70        105.38      1036.23      1663.27       59.47  ...   \n",
       "1         97.66         99.35       952.01      1586.18       54.63  ...   \n",
       "2         93.54         97.32       904.64      1541.08       51.54  ...   \n",
       "\n",
       "   MSCI NORWAY  MSCI PERU  MSCI RUSSIA  MSCI SINGAPORE  MSCI SOUTH AFRICA  \\\n",
       "0      2373.17     811.96       404.73       1507.8101            1255.75   \n",
       "1      2209.38     751.09       388.05       1437.6600            1177.76   \n",
       "2      2095.60     720.23       344.45       1372.9800            1133.72   \n",
       "\n",
       "   MSCI SPAIN  MSCI SWEDEN  MSCI SWITZERLAND  MSCI UK  MSCI USA  \n",
       "0      108.40     11136.65           1148.37  1818.40   1949.70  \n",
       "1      101.00     10389.93           1075.30  1722.00   1831.88  \n",
       "2       97.34     10042.32           1056.01  1692.43   1789.56  \n",
       "\n",
       "[3 rows x 36 columns]"
      ]
     },
     "execution_count": 100,
     "metadata": {},
     "output_type": "execute_result"
    }
   ],
   "source": [
    "data_df = pd.read_csv(\"data/luxxx.csv\")\n",
    "data_df.head(3)"
   ]
  },
  {
   "cell_type": "markdown",
   "metadata": {},
   "source": [
    "- The 'Date' column is in a string format; therefore, convert it to a datetime format"
   ]
  },
  {
   "cell_type": "code",
   "execution_count": 101,
   "metadata": {},
   "outputs": [
    {
     "name": "stderr",
     "output_type": "stream",
     "text": [
      "C:\\Users\\Asus\\AppData\\Local\\Temp\\ipykernel_6944\\939905822.py:1: UserWarning: Could not infer format, so each element will be parsed individually, falling back to `dateutil`. To ensure parsing is consistent and as-expected, please specify a format.\n",
      "  data_df[\"Date\"] = pd.to_datetime(data_df[\"Date\"])\n"
     ]
    }
   ],
   "source": [
    "data_df[\"Date\"] = pd.to_datetime(data_df[\"Date\"])"
   ]
  },
  {
   "cell_type": "markdown",
   "metadata": {},
   "source": [
    "- Specifying the target column - the LUXXX index. The returns of LUXXX needs to be calculated since our strategy is based on the returns over the weeks. \n",
    "- The remaining indices are converted to returns instead of their prices; to scale the features into a common unit as well as to capture movements in the prices instead."
   ]
  },
  {
   "cell_type": "code",
   "execution_count": 102,
   "metadata": {},
   "outputs": [],
   "source": [
    "target_ETF = \"LUXXX\"\n",
    "\n",
    "ETF_features = data_df.loc[:, ~data_df.columns.isin([\"Date\", target_ETF])].columns\n",
    "data_df[ETF_features] = data_df[ETF_features].pct_change()\n",
    "\n",
    "data_df[target_ETF + \"_returns\"] = data_df[target_ETF].pct_change()"
   ]
  },
  {
   "cell_type": "markdown",
   "metadata": {},
   "source": [
    "- Next, we calculate the Target column and converts it into a categorical binary variable. \n",
    "- Denote 1 for the absolute returns of LUXXX exceeding 0.25% and 0 otherwise. In a downward or bear market, we look to short should the price decrease by more than this threshold, and we take a long position in a bear market. \n",
    "- The goal is to predict a percent change more than a threshold. \n",
    "- We shift the target column by one week to align with the predicted period available for other predictors since the ML algorithm re quires the label and feature/predictor values to be captured in the same row or observation.\n"
   ]
  },
  {
   "cell_type": "code",
   "execution_count": 103,
   "metadata": {},
   "outputs": [],
   "source": [
    "data_df[target_ETF + \"_returns\" + \"_shift\"] = data_df[target_ETF + \"_returns\"].shift(-1)\n",
    "\n",
    "# Strategy to take long position for anticipated returns of 0.5%\n",
    "data_df[\"Target\"] = np.where(\n",
    "(data_df[target_ETF + \"_returns_shift\"].abs() > 0.025), 1, 0\n",
    ")"
   ]
  },
  {
   "cell_type": "code",
   "execution_count": 104,
   "metadata": {},
   "outputs": [
    {
     "data": {
      "text/plain": [
       "0.3452"
      ]
     },
     "execution_count": 104,
     "metadata": {},
     "output_type": "execute_result"
    }
   ],
   "source": [
    "# Checking target proportion\n",
    "round(data_df[\"Target\"].sum() / len(data_df), 4)"
   ]
  },
  {
   "cell_type": "markdown",
   "metadata": {},
   "source": [
    "- The proportion of 34.5% of the target class 1 does not indicate any imbalance."
   ]
  },
  {
   "cell_type": "markdown",
   "metadata": {},
   "source": [
    "- Now that we have our Target class, we can select which indices contribute to predicting the target class. We use the feature importance tool in Sklearn for a Decision Tree.\n",
    "- We look at the cumulative importance for the features that make a contribution > 0. "
   ]
  },
  {
   "cell_type": "code",
   "execution_count": 105,
   "metadata": {},
   "outputs": [
    {
     "data": {
      "text/html": [
       "<div>\n",
       "<style scoped>\n",
       "    .dataframe tbody tr th:only-of-type {\n",
       "        vertical-align: middle;\n",
       "    }\n",
       "\n",
       "    .dataframe tbody tr th {\n",
       "        vertical-align: top;\n",
       "    }\n",
       "\n",
       "    .dataframe thead th {\n",
       "        text-align: right;\n",
       "    }\n",
       "</style>\n",
       "<table border=\"1\" class=\"dataframe\">\n",
       "  <thead>\n",
       "    <tr style=\"text-align: right;\">\n",
       "      <th></th>\n",
       "      <th>importance</th>\n",
       "      <th>Cumul_Imp</th>\n",
       "    </tr>\n",
       "  </thead>\n",
       "  <tbody>\n",
       "    <tr>\n",
       "      <th>MSCI KOREA</th>\n",
       "      <td>0.436123</td>\n",
       "      <td>0.436123</td>\n",
       "    </tr>\n",
       "    <tr>\n",
       "      <th>MSCI DENMARK</th>\n",
       "      <td>0.219591</td>\n",
       "      <td>0.655713</td>\n",
       "    </tr>\n",
       "    <tr>\n",
       "      <th>MSCI FRANCE</th>\n",
       "      <td>0.196979</td>\n",
       "      <td>0.852692</td>\n",
       "    </tr>\n",
       "    <tr>\n",
       "      <th>MSCI NORWAY</th>\n",
       "      <td>0.147308</td>\n",
       "      <td>1.000000</td>\n",
       "    </tr>\n",
       "    <tr>\n",
       "      <th>MSCI ARGENTINA</th>\n",
       "      <td>0.000000</td>\n",
       "      <td>1.000000</td>\n",
       "    </tr>\n",
       "    <tr>\n",
       "      <th>MSCI PERU</th>\n",
       "      <td>0.000000</td>\n",
       "      <td>1.000000</td>\n",
       "    </tr>\n",
       "    <tr>\n",
       "      <th>MSCI MEXICO</th>\n",
       "      <td>0.000000</td>\n",
       "      <td>1.000000</td>\n",
       "    </tr>\n",
       "    <tr>\n",
       "      <th>MSCI NETHERLANDS</th>\n",
       "      <td>0.000000</td>\n",
       "      <td>1.000000</td>\n",
       "    </tr>\n",
       "    <tr>\n",
       "      <th>MSCI NEW ZEALAND</th>\n",
       "      <td>0.000000</td>\n",
       "      <td>1.000000</td>\n",
       "    </tr>\n",
       "    <tr>\n",
       "      <th>MSCI RUSSIA</th>\n",
       "      <td>0.000000</td>\n",
       "      <td>1.000000</td>\n",
       "    </tr>\n",
       "    <tr>\n",
       "      <th>MSCI ITALY</th>\n",
       "      <td>0.000000</td>\n",
       "      <td>1.000000</td>\n",
       "    </tr>\n",
       "    <tr>\n",
       "      <th>MSCI SINGAPORE</th>\n",
       "      <td>0.000000</td>\n",
       "      <td>1.000000</td>\n",
       "    </tr>\n",
       "    <tr>\n",
       "      <th>MSCI SOUTH AFRICA</th>\n",
       "      <td>0.000000</td>\n",
       "      <td>1.000000</td>\n",
       "    </tr>\n",
       "    <tr>\n",
       "      <th>MSCI SPAIN</th>\n",
       "      <td>0.000000</td>\n",
       "      <td>1.000000</td>\n",
       "    </tr>\n",
       "    <tr>\n",
       "      <th>MSCI SWEDEN</th>\n",
       "      <td>0.000000</td>\n",
       "      <td>1.000000</td>\n",
       "    </tr>\n",
       "    <tr>\n",
       "      <th>MSCI SWITZERLAND</th>\n",
       "      <td>0.000000</td>\n",
       "      <td>1.000000</td>\n",
       "    </tr>\n",
       "    <tr>\n",
       "      <th>MSCI UK</th>\n",
       "      <td>0.000000</td>\n",
       "      <td>1.000000</td>\n",
       "    </tr>\n",
       "    <tr>\n",
       "      <th>MSCI JAPAN</th>\n",
       "      <td>0.000000</td>\n",
       "      <td>1.000000</td>\n",
       "    </tr>\n",
       "    <tr>\n",
       "      <th>MSCI INDIA</th>\n",
       "      <td>0.000000</td>\n",
       "      <td>1.000000</td>\n",
       "    </tr>\n",
       "    <tr>\n",
       "      <th>BLP ORIENTE MEDIO</th>\n",
       "      <td>0.000000</td>\n",
       "      <td>1.000000</td>\n",
       "    </tr>\n",
       "    <tr>\n",
       "      <th>MSCI HONG KONG</th>\n",
       "      <td>0.000000</td>\n",
       "      <td>1.000000</td>\n",
       "    </tr>\n",
       "    <tr>\n",
       "      <th>MSCI GERMANY</th>\n",
       "      <td>0.000000</td>\n",
       "      <td>1.000000</td>\n",
       "    </tr>\n",
       "    <tr>\n",
       "      <th>MSCI FINLAND</th>\n",
       "      <td>0.000000</td>\n",
       "      <td>1.000000</td>\n",
       "    </tr>\n",
       "    <tr>\n",
       "      <th>MSCI EM LATIN AMERICA</th>\n",
       "      <td>0.000000</td>\n",
       "      <td>1.000000</td>\n",
       "    </tr>\n",
       "    <tr>\n",
       "      <th>MSCI EM EUROPE</th>\n",
       "      <td>0.000000</td>\n",
       "      <td>1.000000</td>\n",
       "    </tr>\n",
       "    <tr>\n",
       "      <th>MSCI EM EU-MIDE-AFRICA</th>\n",
       "      <td>0.000000</td>\n",
       "      <td>1.000000</td>\n",
       "    </tr>\n",
       "    <tr>\n",
       "      <th>MSCI EM ASIA</th>\n",
       "      <td>0.000000</td>\n",
       "      <td>1.000000</td>\n",
       "    </tr>\n",
       "    <tr>\n",
       "      <th>MSCI CHINA</th>\n",
       "      <td>0.000000</td>\n",
       "      <td>1.000000</td>\n",
       "    </tr>\n",
       "    <tr>\n",
       "      <th>MSCI CANADA</th>\n",
       "      <td>0.000000</td>\n",
       "      <td>1.000000</td>\n",
       "    </tr>\n",
       "    <tr>\n",
       "      <th>MSCI BRAZIL</th>\n",
       "      <td>0.000000</td>\n",
       "      <td>1.000000</td>\n",
       "    </tr>\n",
       "    <tr>\n",
       "      <th>MSCI BELGIUM</th>\n",
       "      <td>0.000000</td>\n",
       "      <td>1.000000</td>\n",
       "    </tr>\n",
       "    <tr>\n",
       "      <th>MSCI AUSTRIA</th>\n",
       "      <td>0.000000</td>\n",
       "      <td>1.000000</td>\n",
       "    </tr>\n",
       "    <tr>\n",
       "      <th>MSCI AUSTRALIA</th>\n",
       "      <td>0.000000</td>\n",
       "      <td>1.000000</td>\n",
       "    </tr>\n",
       "    <tr>\n",
       "      <th>MSCI USA</th>\n",
       "      <td>0.000000</td>\n",
       "      <td>1.000000</td>\n",
       "    </tr>\n",
       "  </tbody>\n",
       "</table>\n",
       "</div>"
      ],
      "text/plain": [
       "                        importance  Cumul_Imp\n",
       "MSCI KOREA                0.436123   0.436123\n",
       "MSCI DENMARK              0.219591   0.655713\n",
       "MSCI FRANCE               0.196979   0.852692\n",
       "MSCI NORWAY               0.147308   1.000000\n",
       "MSCI ARGENTINA            0.000000   1.000000\n",
       "MSCI PERU                 0.000000   1.000000\n",
       "MSCI MEXICO               0.000000   1.000000\n",
       "MSCI NETHERLANDS          0.000000   1.000000\n",
       "MSCI NEW ZEALAND          0.000000   1.000000\n",
       "MSCI RUSSIA               0.000000   1.000000\n",
       "MSCI ITALY                0.000000   1.000000\n",
       "MSCI SINGAPORE            0.000000   1.000000\n",
       "MSCI SOUTH AFRICA         0.000000   1.000000\n",
       "MSCI SPAIN                0.000000   1.000000\n",
       "MSCI SWEDEN               0.000000   1.000000\n",
       "MSCI SWITZERLAND          0.000000   1.000000\n",
       "MSCI UK                   0.000000   1.000000\n",
       "MSCI JAPAN                0.000000   1.000000\n",
       "MSCI INDIA                0.000000   1.000000\n",
       "BLP ORIENTE MEDIO         0.000000   1.000000\n",
       "MSCI HONG KONG            0.000000   1.000000\n",
       "MSCI GERMANY              0.000000   1.000000\n",
       "MSCI FINLAND              0.000000   1.000000\n",
       "MSCI EM LATIN AMERICA     0.000000   1.000000\n",
       "MSCI EM EUROPE            0.000000   1.000000\n",
       "MSCI EM EU-MIDE-AFRICA    0.000000   1.000000\n",
       "MSCI EM ASIA              0.000000   1.000000\n",
       "MSCI CHINA                0.000000   1.000000\n",
       "MSCI CANADA               0.000000   1.000000\n",
       "MSCI BRAZIL               0.000000   1.000000\n",
       "MSCI BELGIUM              0.000000   1.000000\n",
       "MSCI AUSTRIA              0.000000   1.000000\n",
       "MSCI AUSTRALIA            0.000000   1.000000\n",
       "MSCI USA                  0.000000   1.000000"
      ]
     },
     "execution_count": 105,
     "metadata": {},
     "output_type": "execute_result"
    }
   ],
   "source": [
    "# Prepare for Train/Test split\n",
    "\n",
    "NoNaN_df = data_df.dropna()\n",
    "X = NoNaN_df[ETF_features]\n",
    "\n",
    "X = X.iloc[:, :]\n",
    "y = NoNaN_df.loc[:, \"Target\"]\n",
    "\n",
    "del NoNaN_df\n",
    "\n",
    "X_train, X_test, y_train, y_test = train_test_split(X, y, test_size=0.3, random_state=0)\n",
    "\n",
    "DTree = DecisionTreeClassifier(\n",
    "    criterion=\"entropy\",\n",
    "    random_state=0,\n",
    "    max_depth=8,\n",
    "    min_samples_leaf=30,\n",
    "    min_samples_split=20,\n",
    ")\n",
    "\n",
    "DTree.fit(X_train, y_train)\n",
    "\n",
    "feature_importances = pd.DataFrame(\n",
    "    DTree.feature_importances_,\n",
    "    index=X.iloc[:, :].columns,\n",
    "    columns=[\"importance\"],\n",
    ").sort_values(\"importance\", ascending=False)\n",
    "\n",
    "feature_importances[\"Cumul_Imp\"] = feature_importances.cumsum().iloc[:, :]\n",
    "\n",
    "pct_var = 1.0\n",
    "feature_importances = feature_importances[(feature_importances[\"Cumul_Imp\"] <= pct_var)]\n",
    "feature_importances"
   ]
  },
  {
   "cell_type": "markdown",
   "metadata": {},
   "source": [
    "- The cumulative importance shows only 4 indices that contribute, reducing features significantly and will also reduce the runtime when doing hyperparameter tuning."
   ]
  },
  {
   "cell_type": "code",
   "execution_count": 108,
   "metadata": {},
   "outputs": [
    {
     "name": "stdout",
     "output_type": "stream",
     "text": [
      "              importance      Variable\n",
      "MSCI KOREA      0.436123    MSCI KOREA\n",
      "MSCI DENMARK    0.219591  MSCI DENMARK\n",
      "MSCI FRANCE     0.196979   MSCI FRANCE\n",
      "MSCI NORWAY     0.147308   MSCI NORWAY\n"
     ]
    },
    {
     "data": {
      "image/png": "[encoded data removed]",
      "text/plain": [
       "<Figure size 600x500 with 1 Axes>"
      ]
     },
     "metadata": {},
     "output_type": "display_data"
    }
   ],
   "source": [
    "# Plot feature importance\n",
    "\n",
    "cols = feature_importances.index\n",
    "y_pos = np.arange(len(cols))\n",
    "performance = feature_importances.importance\n",
    "\n",
    "df2plot = pd.DataFrame(data=performance, index=feature_importances.index)\n",
    "df2plot[\"Variable\"] = feature_importances.index\n",
    "df2plot = df2plot[df2plot[\"importance\"] > 0.000]\n",
    "\n",
    "print(df2plot)\n",
    "\n",
    "f, ax = plt.subplots(figsize=(6,5))\n",
    "\n",
    "sns.barplot(\n",
    "    x=\"importance\", y=\"Variable\", data=df2plot, label=\"Variable Ranking\", color=\"b\"\n",
    ")\n",
    "\n",
    "for p in ax.patches:\n",
    "    width = p.get_width()\n",
    "    ax.text(\n",
    "        width + 0.05,\n",
    "        p.get_y() + p.get_height() / 2.0 + 0.2, \n",
    "        \"{:1.2f}\".format(width), \n",
    "        ha=\"center\",\n",
    "    )"
   ]
  },
  {
   "cell_type": "code",
   "execution_count": 110,
   "metadata": {},
   "outputs": [
    {
     "data": {
      "text/plain": [
       "['MSCI KOREA', 'MSCI DENMARK', 'MSCI FRANCE', 'MSCI NORWAY']"
      ]
     },
     "execution_count": 110,
     "metadata": {},
     "output_type": "execute_result"
    }
   ],
   "source": [
    "# Indices to add value in prediction\n",
    "ETF_ImpFeatures = []\n",
    "for i in df2plot[\"Variable\"].values:\n",
    "    ETF_ImpFeatures.append(i)\n",
    "\n",
    "ETF_ImpFeatures"
   ]
  }
 ],
 "metadata": {
  "kernelspec": {
   "display_name": "Python 3",
   "language": "python",
   "name": "python3"
  },
  "language_info": {
   "codemirror_mode": {
    "name": "ipython",
    "version": 3
   },
   "file_extension": ".py",
   "mimetype": "text/x-python",
   "name": "python",
   "nbconvert_exporter": "python",
   "pygments_lexer": "ipython3",
   "version": "3.12.1"
  }
 },
 "nbformat": 4,
 "nbformat_minor": 2
}
