{
 "cells": [
  {
   "cell_type": "markdown",
   "metadata": {},
   "source": [
    "# Long/short Trading Strategy with Support Vector Machines (SVMs)"
   ]
  },
  {
   "cell_type": "markdown",
   "metadata": {},
   "source": [
    "**1. Introduction**"
   ]
  },
  {
   "cell_type": "markdown",
   "metadata": {},
   "source": [
    "- The aim is to implement SVM on a trading strategy for the Luxembourg index (LUXXX) based on other indices as well as technical indicators. \n",
    "- The strategy is to take a long/short position when 0.25% change in LUXXX return is predicted. \n",
    "- The long/short position will be based on an upward or downward trending market.\n",
    "- This strategy does not take into account  trading costs."
   ]
  },
  {
   "cell_type": "code",
   "execution_count": 2,
   "metadata": {},
   "outputs": [],
   "source": [
    "import matplotlib.pyplot as plt\n",
    "import numpy as np\n",
    "import pandas as pd\n",
    "import seaborn as sns\n",
    "\n",
    "from sklearn import svm\n",
    "from sklearn.metrics import roc_auc_score, roc_curve\n",
    "from sklearn.model_selection import GridSearchCV, train_test_split\n",
    "from sklearn.tree import DecisionTreeClassifier"
   ]
  },
  {
   "cell_type": "markdown",
   "metadata": {},
   "source": [
    "- Loading the data: The data contains weekly closing prices. "
   ]
  },
  {
   "cell_type": "code",
   "execution_count": 6,
   "metadata": {},
   "outputs": [
    {
     "data": {
      "text/html": [
       "<div>\n",
       "<style scoped>\n",
       "    .dataframe tbody tr th:only-of-type {\n",
       "        vertical-align: middle;\n",
       "    }\n",
       "\n",
       "    .dataframe tbody tr th {\n",
       "        vertical-align: top;\n",
       "    }\n",
       "\n",
       "    .dataframe thead th {\n",
       "        text-align: right;\n",
       "    }\n",
       "</style>\n",
       "<table border=\"1\" class=\"dataframe\">\n",
       "  <thead>\n",
       "    <tr style=\"text-align: right;\">\n",
       "      <th></th>\n",
       "      <th>Date</th>\n",
       "      <th>LUXXX</th>\n",
       "      <th>MSCI ARGENTINA</th>\n",
       "      <th>BLP ORIENTE MEDIO</th>\n",
       "      <th>MSCI AUSTRALIA</th>\n",
       "      <th>MSCI AUSTRIA</th>\n",
       "      <th>MSCI BELGIUM</th>\n",
       "      <th>MSCI BRAZIL</th>\n",
       "      <th>MSCI CANADA</th>\n",
       "      <th>MSCI CHINA</th>\n",
       "      <th>...</th>\n",
       "      <th>MSCI NORWAY</th>\n",
       "      <th>MSCI PERU</th>\n",
       "      <th>MSCI RUSSIA</th>\n",
       "      <th>MSCI SINGAPORE</th>\n",
       "      <th>MSCI SOUTH AFRICA</th>\n",
       "      <th>MSCI SPAIN</th>\n",
       "      <th>MSCI SWEDEN</th>\n",
       "      <th>MSCI SWITZERLAND</th>\n",
       "      <th>MSCI UK</th>\n",
       "      <th>MSCI USA</th>\n",
       "    </tr>\n",
       "  </thead>\n",
       "  <tbody>\n",
       "    <tr>\n",
       "      <th>0</th>\n",
       "      <td>01-Jan-16</td>\n",
       "      <td>1390.716</td>\n",
       "      <td>2376.29</td>\n",
       "      <td>3525.9150</td>\n",
       "      <td>1068.79</td>\n",
       "      <td>106.70</td>\n",
       "      <td>105.38</td>\n",
       "      <td>1036.23</td>\n",
       "      <td>1663.27</td>\n",
       "      <td>59.47</td>\n",
       "      <td>...</td>\n",
       "      <td>2373.17</td>\n",
       "      <td>811.96</td>\n",
       "      <td>404.73</td>\n",
       "      <td>1507.8101</td>\n",
       "      <td>1255.75</td>\n",
       "      <td>108.40</td>\n",
       "      <td>11136.65</td>\n",
       "      <td>1148.37</td>\n",
       "      <td>1818.40</td>\n",
       "      <td>1949.70</td>\n",
       "    </tr>\n",
       "    <tr>\n",
       "      <th>1</th>\n",
       "      <td>08-Jan-16</td>\n",
       "      <td>1291.267</td>\n",
       "      <td>2260.85</td>\n",
       "      <td>3280.6683</td>\n",
       "      <td>1005.56</td>\n",
       "      <td>97.66</td>\n",
       "      <td>99.35</td>\n",
       "      <td>952.01</td>\n",
       "      <td>1586.18</td>\n",
       "      <td>54.63</td>\n",
       "      <td>...</td>\n",
       "      <td>2209.38</td>\n",
       "      <td>751.09</td>\n",
       "      <td>388.05</td>\n",
       "      <td>1437.6600</td>\n",
       "      <td>1177.76</td>\n",
       "      <td>101.00</td>\n",
       "      <td>10389.93</td>\n",
       "      <td>1075.30</td>\n",
       "      <td>1722.00</td>\n",
       "      <td>1831.88</td>\n",
       "    </tr>\n",
       "    <tr>\n",
       "      <th>2</th>\n",
       "      <td>15-Jan-16</td>\n",
       "      <td>1257.086</td>\n",
       "      <td>2217.50</td>\n",
       "      <td>3118.2981</td>\n",
       "      <td>985.38</td>\n",
       "      <td>93.54</td>\n",
       "      <td>97.32</td>\n",
       "      <td>904.64</td>\n",
       "      <td>1541.08</td>\n",
       "      <td>51.54</td>\n",
       "      <td>...</td>\n",
       "      <td>2095.60</td>\n",
       "      <td>720.23</td>\n",
       "      <td>344.45</td>\n",
       "      <td>1372.9800</td>\n",
       "      <td>1133.72</td>\n",
       "      <td>97.34</td>\n",
       "      <td>10042.32</td>\n",
       "      <td>1056.01</td>\n",
       "      <td>1692.43</td>\n",
       "      <td>1789.56</td>\n",
       "    </tr>\n",
       "  </tbody>\n",
       "</table>\n",
       "<p>3 rows × 36 columns</p>\n",
       "</div>"
      ],
      "text/plain": [
       "        Date     LUXXX  MSCI ARGENTINA  BLP ORIENTE MEDIO  MSCI AUSTRALIA  \\\n",
       "0  01-Jan-16  1390.716         2376.29          3525.9150         1068.79   \n",
       "1  08-Jan-16  1291.267         2260.85          3280.6683         1005.56   \n",
       "2  15-Jan-16  1257.086         2217.50          3118.2981          985.38   \n",
       "\n",
       "   MSCI AUSTRIA  MSCI BELGIUM  MSCI BRAZIL  MSCI CANADA  MSCI CHINA  ...  \\\n",
       "0        106.70        105.38      1036.23      1663.27       59.47  ...   \n",
       "1         97.66         99.35       952.01      1586.18       54.63  ...   \n",
       "2         93.54         97.32       904.64      1541.08       51.54  ...   \n",
       "\n",
       "   MSCI NORWAY  MSCI PERU  MSCI RUSSIA  MSCI SINGAPORE  MSCI SOUTH AFRICA  \\\n",
       "0      2373.17     811.96       404.73       1507.8101            1255.75   \n",
       "1      2209.38     751.09       388.05       1437.6600            1177.76   \n",
       "2      2095.60     720.23       344.45       1372.9800            1133.72   \n",
       "\n",
       "   MSCI SPAIN  MSCI SWEDEN  MSCI SWITZERLAND  MSCI UK  MSCI USA  \n",
       "0      108.40     11136.65           1148.37  1818.40   1949.70  \n",
       "1      101.00     10389.93           1075.30  1722.00   1831.88  \n",
       "2       97.34     10042.32           1056.01  1692.43   1789.56  \n",
       "\n",
       "[3 rows x 36 columns]"
      ]
     },
     "execution_count": 6,
     "metadata": {},
     "output_type": "execute_result"
    }
   ],
   "source": [
    "data_df = pd.read_csv(\"data/luxxx.csv\")\n",
    "data_df.head(3)"
   ]
  },
  {
   "cell_type": "markdown",
   "metadata": {},
   "source": [
    "- The 'Date' column is in a string format; therefore, convert it to a datetime format"
   ]
  },
  {
   "cell_type": "code",
   "execution_count": 7,
   "metadata": {},
   "outputs": [
    {
     "name": "stderr",
     "output_type": "stream",
     "text": [
      "C:\\Users\\Asus\\AppData\\Local\\Temp\\ipykernel_6944\\939905822.py:1: UserWarning: Could not infer format, so each element will be parsed individually, falling back to `dateutil`. To ensure parsing is consistent and as-expected, please specify a format.\n",
      "  data_df[\"Date\"] = pd.to_datetime(data_df[\"Date\"])\n"
     ]
    }
   ],
   "source": [
    "data_df[\"Date\"] = pd.to_datetime(data_df[\"Date\"])"
   ]
  },
  {
   "cell_type": "markdown",
   "metadata": {},
   "source": [
    "- Specifying the target column - the LUXXX index. The returns of LUXXX needs to be calculated since our strategy is based on the returns over the weeks. \n",
    "- The remaining indices are converted to returns instead of their prices; to scale the features into a common unit as well as to capture movements in the prices instead."
   ]
  },
  {
   "cell_type": "code",
   "execution_count": 13,
   "metadata": {},
   "outputs": [],
   "source": [
    "target_ETF = \"LUXXX\"\n",
    "\n",
    "ETF_features = data_df.loc[:, ~data_df.columns.isin([\"Date\", target_ETF])].columns\n",
    "data_df[ETF_features] = data_df[ETF_features].pct_change()\n",
    "\n",
    "data_df[target_ETF + \"_returns\"] = data_df[target_ETF].pct_change()"
   ]
  }
 ],
 "metadata": {
  "kernelspec": {
   "display_name": "Python 3",
   "language": "python",
   "name": "python3"
  },
  "language_info": {
   "codemirror_mode": {
    "name": "ipython",
    "version": 3
   },
   "file_extension": ".py",
   "mimetype": "text/x-python",
   "name": "python",
   "nbconvert_exporter": "python",
   "pygments_lexer": "ipython3",
   "version": "3.12.1"
  }
 },
 "nbformat": 4,
 "nbformat_minor": 2
}
